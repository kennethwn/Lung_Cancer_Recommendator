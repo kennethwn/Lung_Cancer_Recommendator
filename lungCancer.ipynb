{
 "cells": [
  {
   "cell_type": "code",
   "execution_count": 1,
   "metadata": {},
   "outputs": [
    {
     "data": {
      "text/html": [
       "<div>\n",
       "<style scoped>\n",
       "    .dataframe tbody tr th:only-of-type {\n",
       "        vertical-align: middle;\n",
       "    }\n",
       "\n",
       "    .dataframe tbody tr th {\n",
       "        vertical-align: top;\n",
       "    }\n",
       "\n",
       "    .dataframe thead th {\n",
       "        text-align: right;\n",
       "    }\n",
       "</style>\n",
       "<table border=\"1\" class=\"dataframe\">\n",
       "  <thead>\n",
       "    <tr style=\"text-align: right;\">\n",
       "      <th></th>\n",
       "      <th>GENDER</th>\n",
       "      <th>AGE</th>\n",
       "      <th>SMOKING</th>\n",
       "      <th>YELLOW_FINGERS</th>\n",
       "      <th>ANXIETY</th>\n",
       "      <th>PEER_PRESSURE</th>\n",
       "      <th>CHRONIC DISEASE</th>\n",
       "      <th>FATIGUE</th>\n",
       "      <th>ALLERGY</th>\n",
       "      <th>WHEEZING</th>\n",
       "      <th>ALCOHOL CONSUMING</th>\n",
       "      <th>COUGHING</th>\n",
       "      <th>SHORTNESS OF BREATH</th>\n",
       "      <th>SWALLOWING DIFFICULTY</th>\n",
       "      <th>CHEST PAIN</th>\n",
       "      <th>LUNG_CANCER</th>\n",
       "    </tr>\n",
       "  </thead>\n",
       "  <tbody>\n",
       "    <tr>\n",
       "      <th>0</th>\n",
       "      <td>M</td>\n",
       "      <td>69</td>\n",
       "      <td>1</td>\n",
       "      <td>2</td>\n",
       "      <td>2</td>\n",
       "      <td>1</td>\n",
       "      <td>1</td>\n",
       "      <td>2</td>\n",
       "      <td>1</td>\n",
       "      <td>2</td>\n",
       "      <td>2</td>\n",
       "      <td>2</td>\n",
       "      <td>2</td>\n",
       "      <td>2</td>\n",
       "      <td>2</td>\n",
       "      <td>YES</td>\n",
       "    </tr>\n",
       "    <tr>\n",
       "      <th>1</th>\n",
       "      <td>M</td>\n",
       "      <td>74</td>\n",
       "      <td>2</td>\n",
       "      <td>1</td>\n",
       "      <td>1</td>\n",
       "      <td>1</td>\n",
       "      <td>2</td>\n",
       "      <td>2</td>\n",
       "      <td>2</td>\n",
       "      <td>1</td>\n",
       "      <td>1</td>\n",
       "      <td>1</td>\n",
       "      <td>2</td>\n",
       "      <td>2</td>\n",
       "      <td>2</td>\n",
       "      <td>YES</td>\n",
       "    </tr>\n",
       "    <tr>\n",
       "      <th>2</th>\n",
       "      <td>F</td>\n",
       "      <td>59</td>\n",
       "      <td>1</td>\n",
       "      <td>1</td>\n",
       "      <td>1</td>\n",
       "      <td>2</td>\n",
       "      <td>1</td>\n",
       "      <td>2</td>\n",
       "      <td>1</td>\n",
       "      <td>2</td>\n",
       "      <td>1</td>\n",
       "      <td>2</td>\n",
       "      <td>2</td>\n",
       "      <td>1</td>\n",
       "      <td>2</td>\n",
       "      <td>NO</td>\n",
       "    </tr>\n",
       "    <tr>\n",
       "      <th>3</th>\n",
       "      <td>M</td>\n",
       "      <td>63</td>\n",
       "      <td>2</td>\n",
       "      <td>2</td>\n",
       "      <td>2</td>\n",
       "      <td>1</td>\n",
       "      <td>1</td>\n",
       "      <td>1</td>\n",
       "      <td>1</td>\n",
       "      <td>1</td>\n",
       "      <td>2</td>\n",
       "      <td>1</td>\n",
       "      <td>1</td>\n",
       "      <td>2</td>\n",
       "      <td>2</td>\n",
       "      <td>NO</td>\n",
       "    </tr>\n",
       "    <tr>\n",
       "      <th>4</th>\n",
       "      <td>F</td>\n",
       "      <td>63</td>\n",
       "      <td>1</td>\n",
       "      <td>2</td>\n",
       "      <td>1</td>\n",
       "      <td>1</td>\n",
       "      <td>1</td>\n",
       "      <td>1</td>\n",
       "      <td>1</td>\n",
       "      <td>2</td>\n",
       "      <td>1</td>\n",
       "      <td>2</td>\n",
       "      <td>2</td>\n",
       "      <td>1</td>\n",
       "      <td>1</td>\n",
       "      <td>NO</td>\n",
       "    </tr>\n",
       "  </tbody>\n",
       "</table>\n",
       "</div>"
      ],
      "text/plain": [
       "  GENDER  AGE  SMOKING  YELLOW_FINGERS  ANXIETY  PEER_PRESSURE  \\\n",
       "0      M   69        1               2        2              1   \n",
       "1      M   74        2               1        1              1   \n",
       "2      F   59        1               1        1              2   \n",
       "3      M   63        2               2        2              1   \n",
       "4      F   63        1               2        1              1   \n",
       "\n",
       "   CHRONIC DISEASE  FATIGUE  ALLERGY  WHEEZING  ALCOHOL CONSUMING  COUGHING  \\\n",
       "0                1        2        1         2                  2         2   \n",
       "1                2        2        2         1                  1         1   \n",
       "2                1        2        1         2                  1         2   \n",
       "3                1        1        1         1                  2         1   \n",
       "4                1        1        1         2                  1         2   \n",
       "\n",
       "   SHORTNESS OF BREATH  SWALLOWING DIFFICULTY  CHEST PAIN LUNG_CANCER  \n",
       "0                    2                      2           2         YES  \n",
       "1                    2                      2           2         YES  \n",
       "2                    2                      1           2          NO  \n",
       "3                    1                      2           2          NO  \n",
       "4                    2                      1           1          NO  "
      ]
     },
     "execution_count": 1,
     "metadata": {},
     "output_type": "execute_result"
    }
   ],
   "source": [
    "import numpy as np\n",
    "import pandas as pd\n",
    "import seaborn as sns\n",
    "import matplotlib.pyplot as plt\n",
    "%matplotlib inline  \n",
    "\n",
    "plt.style.use('seaborn-poster')\n",
    "\n",
    "# Read data from CSV file\n",
    "lungCancer_dataset = pd.read_csv('full-stack project/model/lungCancer.csv')\n",
    "lungCancer_dataset.head()"
   ]
  },
  {
   "cell_type": "code",
   "execution_count": 2,
   "metadata": {},
   "outputs": [
    {
     "name": "stdout",
     "output_type": "stream",
     "text": [
      "<class 'pandas.core.frame.DataFrame'>\n",
      "RangeIndex: 309 entries, 0 to 308\n",
      "Data columns (total 16 columns):\n",
      " #   Column                 Non-Null Count  Dtype \n",
      "---  ------                 --------------  ----- \n",
      " 0   GENDER                 309 non-null    object\n",
      " 1   AGE                    309 non-null    int64 \n",
      " 2   SMOKING                309 non-null    int64 \n",
      " 3   YELLOW_FINGERS         309 non-null    int64 \n",
      " 4   ANXIETY                309 non-null    int64 \n",
      " 5   PEER_PRESSURE          309 non-null    int64 \n",
      " 6   CHRONIC DISEASE        309 non-null    int64 \n",
      " 7   FATIGUE                309 non-null    int64 \n",
      " 8   ALLERGY                309 non-null    int64 \n",
      " 9   WHEEZING               309 non-null    int64 \n",
      " 10  ALCOHOL CONSUMING      309 non-null    int64 \n",
      " 11  COUGHING               309 non-null    int64 \n",
      " 12  SHORTNESS OF BREATH    309 non-null    int64 \n",
      " 13  SWALLOWING DIFFICULTY  309 non-null    int64 \n",
      " 14  CHEST PAIN             309 non-null    int64 \n",
      " 15  LUNG_CANCER            309 non-null    object\n",
      "dtypes: int64(14), object(2)\n",
      "memory usage: 38.8+ KB\n"
     ]
    }
   ],
   "source": [
    "lungCancer_dataset.info()"
   ]
  },
  {
   "cell_type": "code",
   "execution_count": 3,
   "metadata": {},
   "outputs": [
    {
     "name": "stdout",
     "output_type": "stream",
     "text": [
      "<class 'pandas.core.frame.DataFrame'>\n",
      "RangeIndex: 309 entries, 0 to 308\n",
      "Data columns (total 14 columns):\n",
      " #   Column                 Non-Null Count  Dtype\n",
      "---  ------                 --------------  -----\n",
      " 0   SMOKING                309 non-null    int64\n",
      " 1   YELLOW_FINGERS         309 non-null    int64\n",
      " 2   ANXIETY                309 non-null    int64\n",
      " 3   PEER_PRESSURE          309 non-null    int64\n",
      " 4   CHRONIC DISEASE        309 non-null    int64\n",
      " 5   FATIGUE                309 non-null    int64\n",
      " 6   ALLERGY                309 non-null    int64\n",
      " 7   WHEEZING               309 non-null    int64\n",
      " 8   ALCOHOL CONSUMING      309 non-null    int64\n",
      " 9   COUGHING               309 non-null    int64\n",
      " 10  SHORTNESS OF BREATH    309 non-null    int64\n",
      " 11  SWALLOWING DIFFICULTY  309 non-null    int64\n",
      " 12  CHEST PAIN             309 non-null    int64\n",
      " 13  LUNG_CANCER            309 non-null    int64\n",
      "dtypes: int64(14)\n",
      "memory usage: 33.9 KB\n"
     ]
    },
    {
     "data": {
      "text/html": [
       "<div>\n",
       "<style scoped>\n",
       "    .dataframe tbody tr th:only-of-type {\n",
       "        vertical-align: middle;\n",
       "    }\n",
       "\n",
       "    .dataframe tbody tr th {\n",
       "        vertical-align: top;\n",
       "    }\n",
       "\n",
       "    .dataframe thead th {\n",
       "        text-align: right;\n",
       "    }\n",
       "</style>\n",
       "<table border=\"1\" class=\"dataframe\">\n",
       "  <thead>\n",
       "    <tr style=\"text-align: right;\">\n",
       "      <th></th>\n",
       "      <th>SMOKING</th>\n",
       "      <th>YELLOW_FINGERS</th>\n",
       "      <th>ANXIETY</th>\n",
       "      <th>PEER_PRESSURE</th>\n",
       "      <th>CHRONIC DISEASE</th>\n",
       "      <th>FATIGUE</th>\n",
       "      <th>ALLERGY</th>\n",
       "      <th>WHEEZING</th>\n",
       "      <th>ALCOHOL CONSUMING</th>\n",
       "      <th>COUGHING</th>\n",
       "      <th>SHORTNESS OF BREATH</th>\n",
       "      <th>SWALLOWING DIFFICULTY</th>\n",
       "      <th>CHEST PAIN</th>\n",
       "      <th>LUNG_CANCER</th>\n",
       "    </tr>\n",
       "  </thead>\n",
       "  <tbody>\n",
       "    <tr>\n",
       "      <th>0</th>\n",
       "      <td>0</td>\n",
       "      <td>1</td>\n",
       "      <td>1</td>\n",
       "      <td>0</td>\n",
       "      <td>0</td>\n",
       "      <td>1</td>\n",
       "      <td>0</td>\n",
       "      <td>1</td>\n",
       "      <td>1</td>\n",
       "      <td>1</td>\n",
       "      <td>1</td>\n",
       "      <td>1</td>\n",
       "      <td>1</td>\n",
       "      <td>1</td>\n",
       "    </tr>\n",
       "    <tr>\n",
       "      <th>1</th>\n",
       "      <td>1</td>\n",
       "      <td>0</td>\n",
       "      <td>0</td>\n",
       "      <td>0</td>\n",
       "      <td>1</td>\n",
       "      <td>1</td>\n",
       "      <td>1</td>\n",
       "      <td>0</td>\n",
       "      <td>0</td>\n",
       "      <td>0</td>\n",
       "      <td>1</td>\n",
       "      <td>1</td>\n",
       "      <td>1</td>\n",
       "      <td>1</td>\n",
       "    </tr>\n",
       "    <tr>\n",
       "      <th>2</th>\n",
       "      <td>0</td>\n",
       "      <td>0</td>\n",
       "      <td>0</td>\n",
       "      <td>1</td>\n",
       "      <td>0</td>\n",
       "      <td>1</td>\n",
       "      <td>0</td>\n",
       "      <td>1</td>\n",
       "      <td>0</td>\n",
       "      <td>1</td>\n",
       "      <td>1</td>\n",
       "      <td>0</td>\n",
       "      <td>1</td>\n",
       "      <td>0</td>\n",
       "    </tr>\n",
       "    <tr>\n",
       "      <th>3</th>\n",
       "      <td>1</td>\n",
       "      <td>1</td>\n",
       "      <td>1</td>\n",
       "      <td>0</td>\n",
       "      <td>0</td>\n",
       "      <td>0</td>\n",
       "      <td>0</td>\n",
       "      <td>0</td>\n",
       "      <td>1</td>\n",
       "      <td>0</td>\n",
       "      <td>0</td>\n",
       "      <td>1</td>\n",
       "      <td>1</td>\n",
       "      <td>0</td>\n",
       "    </tr>\n",
       "    <tr>\n",
       "      <th>4</th>\n",
       "      <td>0</td>\n",
       "      <td>1</td>\n",
       "      <td>0</td>\n",
       "      <td>0</td>\n",
       "      <td>0</td>\n",
       "      <td>0</td>\n",
       "      <td>0</td>\n",
       "      <td>1</td>\n",
       "      <td>0</td>\n",
       "      <td>1</td>\n",
       "      <td>1</td>\n",
       "      <td>0</td>\n",
       "      <td>0</td>\n",
       "      <td>0</td>\n",
       "    </tr>\n",
       "  </tbody>\n",
       "</table>\n",
       "</div>"
      ],
      "text/plain": [
       "   SMOKING  YELLOW_FINGERS  ANXIETY  PEER_PRESSURE  CHRONIC DISEASE  FATIGUE  \\\n",
       "0        0               1        1              0                0        1   \n",
       "1        1               0        0              0                1        1   \n",
       "2        0               0        0              1                0        1   \n",
       "3        1               1        1              0                0        0   \n",
       "4        0               1        0              0                0        0   \n",
       "\n",
       "   ALLERGY  WHEEZING  ALCOHOL CONSUMING  COUGHING  SHORTNESS OF BREATH  \\\n",
       "0        0         1                  1         1                    1   \n",
       "1        1         0                  0         0                    1   \n",
       "2        0         1                  0         1                    1   \n",
       "3        0         0                  1         0                    0   \n",
       "4        0         1                  0         1                    1   \n",
       "\n",
       "   SWALLOWING DIFFICULTY  CHEST PAIN  LUNG_CANCER  \n",
       "0                      1           1            1  \n",
       "1                      1           1            1  \n",
       "2                      0           1            0  \n",
       "3                      1           1            0  \n",
       "4                      0           0            0  "
      ]
     },
     "execution_count": 3,
     "metadata": {},
     "output_type": "execute_result"
    }
   ],
   "source": [
    "# Replace dictionary\n",
    "dict = {'YES':1,\n",
    "        'NO':0,\n",
    "        'M':1,\n",
    "        'F':0,\n",
    "        2:1,\n",
    "        1:0}\n",
    "\n",
    "lungCancer_dataset_replaced = lungCancer_dataset.replace(dict)\n",
    "lungCancer_dataset_replaced1 = lungCancer_dataset_replaced.drop(columns=\"AGE\", axis=1)\n",
    "lungCancer_dataset_replaced2 = lungCancer_dataset_replaced1.drop(columns=\"GENDER\", axis=1)\n",
    "lungCancer_dataset_replaced2.info()\n",
    "lungCancer_dataset_replaced2.head()"
   ]
  },
  {
   "cell_type": "code",
   "execution_count": 4,
   "metadata": {},
   "outputs": [],
   "source": [
    "x = lungCancer_dataset_replaced2[lungCancer_dataset_replaced2.columns[:13]]\n",
    "y = lungCancer_dataset_replaced2['LUNG_CANCER']"
   ]
  },
  {
   "cell_type": "code",
   "execution_count": 5,
   "metadata": {},
   "outputs": [],
   "source": [
    "from sklearn.preprocessing import StandardScaler\n",
    " \n",
    "# standarisasi nilai-nilai dari dataset\n",
    "scaler = StandardScaler()\n",
    "scaler.fit(x)\n",
    "x = scaler.transform(x)"
   ]
  },
  {
   "cell_type": "code",
   "execution_count": 6,
   "metadata": {},
   "outputs": [
    {
     "data": {
      "text/plain": [
       "array([[ 0.88083033, -1.15035137, -0.99676897, ...,  0.74873631,\n",
       "        -0.94029056,  0.892475  ],\n",
       "       [-1.13529242, -1.15035137, -0.99676897, ...,  0.74873631,\n",
       "        -0.94029056,  0.892475  ],\n",
       "       [-1.13529242,  0.86929961, -0.99676897, ...,  0.74873631,\n",
       "        -0.94029056, -1.12047956],\n",
       "       ...,\n",
       "       [ 0.88083033,  0.86929961,  1.0032415 , ...,  0.74873631,\n",
       "         1.06350105, -1.12047956],\n",
       "       [ 0.88083033, -1.15035137, -0.99676897, ...,  0.74873631,\n",
       "        -0.94029056, -1.12047956],\n",
       "       [ 0.88083033, -1.15035137, -0.99676897, ...,  0.74873631,\n",
       "        -0.94029056,  0.892475  ]])"
      ]
     },
     "execution_count": 6,
     "metadata": {},
     "output_type": "execute_result"
    }
   ],
   "source": [
    "from sklearn.model_selection import train_test_split\n",
    "X_train, X_test, y_train, y_test = train_test_split(x,y,test_size=0.2,random_state=42)\n",
    "\n",
    "X_train"
   ]
  },
  {
   "cell_type": "code",
   "execution_count": 7,
   "metadata": {},
   "outputs": [
    {
     "data": {
      "text/plain": [
       "(62, 13)"
      ]
     },
     "execution_count": 7,
     "metadata": {},
     "output_type": "execute_result"
    }
   ],
   "source": [
    "X_train.shape\n",
    "X_test.shape"
   ]
  },
  {
   "cell_type": "code",
   "execution_count": 8,
   "metadata": {},
   "outputs": [],
   "source": [
    "from sklearn.svm import SVC\n",
    " \n",
    "# membuat objek SVC dan memanggil fungsi fit untuk melatih model\n",
    "clf = SVC(kernel='linear',degree=3,C=1.0)\n",
    "clf.fit(X_train,y_train)\n",
    "\n",
    "# plot the decision boundaries\n",
    "W = clf.coef_[0]\n",
    "b = clf.intercept_[0]\n",
    "\n",
    "# W1*X1 + W2*X2 + B = 0 ====> X2 = -(B + W1*X1)/W2\n",
    "x_0 = np.linspace(0,5.5,200)\n",
    "decision_boundary = -W[0]/W[1] * x_0 - b/W[1]\n",
    "\n",
    "x = lungCancer_dataset_replaced2[lungCancer_dataset_replaced2.columns[:13]]\n",
    "y = lungCancer_dataset_replaced2['LUNG_CANCER']\n",
    "\n",
    "# Support Vectors\n",
    "margin = 2/W[1]\n",
    "gutter_up = decision_boundary + 0.5*margin\n",
    "gutter_down = decision_boundary - 0.5*margin\n",
    "SVS = clf.support_vectors_"
   ]
  },
  {
   "cell_type": "code",
   "execution_count": 9,
   "metadata": {},
   "outputs": [
    {
     "data": {
      "image/png": "[encoded data removed]",
      "text/plain": [
       "<Figure size 864x576 with 1 Axes>"
      ]
     },
     "metadata": {
      "needs_background": "light"
     },
     "output_type": "display_data"
    }
   ],
   "source": [
    "plt.figure(figsize=(12,8))\n",
    "\n",
    "plt.plot(X_train[:,0][y_train == 0], X_train[:,1][y_train == 0],'bo')\n",
    "plt.show()"
   ]
  },
  {
   "cell_type": "code",
   "execution_count": 10,
   "metadata": {},
   "outputs": [
    {
     "ename": "NameError",
     "evalue": "name 'confusion_matrix' is not defined",
     "output_type": "error",
     "traceback": [
      "\u001b[1;31m---------------------------------------------------------------------------\u001b[0m",
      "\u001b[1;31mNameError\u001b[0m                                 Traceback (most recent call last)",
      "\u001b[1;32md:\\Mata Kuliah\\Semester 3\\Artificial Intelligence\\Final Project\\lungCancer.ipynb Cell 10\u001b[0m in \u001b[0;36m<cell line: 3>\u001b[1;34m()\u001b[0m\n\u001b[0;32m      <a href='vscode-notebook-cell:/d%3A/Mata%20Kuliah/Semester%203/Artificial%20Intelligence/Final%20Project/lungCancer.ipynb#X12sZmlsZQ%3D%3D?line=0'>1</a>\u001b[0m y_pred \u001b[39m=\u001b[39m clf\u001b[39m.\u001b[39mpredict(X_test)\n\u001b[1;32m----> <a href='vscode-notebook-cell:/d%3A/Mata%20Kuliah/Semester%203/Artificial%20Intelligence/Final%20Project/lungCancer.ipynb#X12sZmlsZQ%3D%3D?line=2'>3</a>\u001b[0m cm \u001b[39m=\u001b[39m confusion_matrix(y_test, y_pred)\n\u001b[0;32m      <a href='vscode-notebook-cell:/d%3A/Mata%20Kuliah/Semester%203/Artificial%20Intelligence/Final%20Project/lungCancer.ipynb#X12sZmlsZQ%3D%3D?line=3'>4</a>\u001b[0m sns\u001b[39m.\u001b[39mheatmap(cm, annot\u001b[39m=\u001b[39m\u001b[39mTrue\u001b[39;00m)\n",
      "\u001b[1;31mNameError\u001b[0m: name 'confusion_matrix' is not defined"
     ]
    }
   ],
   "source": [
    "y_pred = clf.predict(X_test)\n",
    "\n",
    "cm = confusion_matrix(y_test, y_pred)\n",
    "sns.heatmap(cm, annot=True)"
   ]
  },
  {
   "cell_type": "code",
   "execution_count": null,
   "metadata": {},
   "outputs": [
    {
     "data": {
      "text/plain": [
       "0.967741935483871"
      ]
     },
     "execution_count": 23,
     "metadata": {},
     "output_type": "execute_result"
    }
   ],
   "source": [
    "# Menampilkan skor akurasi prediksi\n",
    "clf.score(X_test, y_test)"
   ]
  },
  {
   "cell_type": "code",
   "execution_count": null,
   "metadata": {},
   "outputs": [
    {
     "name": "stdout",
     "output_type": "stream",
     "text": [
      "Accuracy : 96.8%\n"
     ]
    }
   ],
   "source": [
    "from sklearn.metrics import accuracy_score, classification_report, confusion_matrix\n",
    "\n",
    "X_test_pred = clf.predict(X_test)\n",
    "training_data_accuracy = accuracy_score(X_test_pred, y_test)\n",
    "accuracy = training_data_accuracy * 100\n",
    "\n",
    "print('Accuracy : %.1f' %accuracy + '%')"
   ]
  },
  {
   "cell_type": "code",
   "execution_count": null,
   "metadata": {},
   "outputs": [],
   "source": [
    "C = 1.0\n",
    "linear_svc = sv"
   ]
  },
  {
   "cell_type": "code",
   "execution_count": null,
   "metadata": {},
   "outputs": [
    {
     "name": "stdout",
     "output_type": "stream",
     "text": [
      "<class 'pandas.core.frame.DataFrame'>\n",
      "RangeIndex: 309 entries, 0 to 308\n",
      "Data columns (total 14 columns):\n",
      " #   Column                 Non-Null Count  Dtype\n",
      "---  ------                 --------------  -----\n",
      " 0   SMOKING                309 non-null    int64\n",
      " 1   YELLOW_FINGERS         309 non-null    int64\n",
      " 2   ANXIETY                309 non-null    int64\n",
      " 3   PEER_PRESSURE          309 non-null    int64\n",
      " 4   CHRONIC DISEASE        309 non-null    int64\n",
      " 5   FATIGUE                309 non-null    int64\n",
      " 6   ALLERGY                309 non-null    int64\n",
      " 7   WHEEZING               309 non-null    int64\n",
      " 8   ALCOHOL CONSUMING      309 non-null    int64\n",
      " 9   COUGHING               309 non-null    int64\n",
      " 10  SHORTNESS OF BREATH    309 non-null    int64\n",
      " 11  SWALLOWING DIFFICULTY  309 non-null    int64\n",
      " 12  CHEST PAIN             309 non-null    int64\n",
      " 13  LUNG_CANCER            309 non-null    int64\n",
      "dtypes: int64(14)\n",
      "memory usage: 33.9 KB\n"
     ]
    }
   ],
   "source": [
    "lungCancer_dataset_replaced2.info()"
   ]
  },
  {
   "cell_type": "code",
   "execution_count": null,
   "metadata": {},
   "outputs": [
    {
     "name": "stdout",
     "output_type": "stream",
     "text": [
      "Accuracy : 100.0%\n",
      "This patient possibly negative lung cancer\n"
     ]
    },
    {
     "name": "stderr",
     "output_type": "stream",
     "text": [
      "c:\\Users\\ASUS\\AppData\\Local\\Programs\\Python\\Python310\\lib\\site-packages\\sklearn\\base.py:450: UserWarning: X does not have valid feature names, but StandardScaler was fitted with feature names\n",
      "  warnings.warn(\n"
     ]
    }
   ],
   "source": [
    "import numpy as np\n",
    "from sklearn.metrics import accuracy_score, classification_report, confusion_matrix\n",
    "#input = (1,0,1,0,1,0,1,0,1,0,1,0,1)\n",
    "#input = (0,0,0,0,0,0,1,0,1,0,1,0,0)\n",
    "input = (1,1,1,0,0,0,0,1,1,0,1,0,1)\n",
    "\n",
    "input_as_array = np.asanyarray(input)\n",
    "input_reshape = input_as_array.reshape(1,-1)\n",
    "\n",
    "std_data = scaler.transform(input_reshape)\n",
    "#print(std_data)\n",
    "\n",
    "prediction = clf.predict(std_data)\n",
    "\n",
    "X_test_pred = clf.predict(std_data)\n",
    "training_data_accuracy = accuracy_score(X_test_pred, prediction)\n",
    "accuracy = training_data_accuracy * 100\n",
    "\n",
    "print('Accuracy : %.1f' %accuracy + '%')\n",
    "\n",
    "if (prediction == 1):\n",
    "  print('This patient possibly positive lung cancer')\n",
    "else:\n",
    "  print('This patient possibly negative lung cancer')"
   ]
  },
  {
   "cell_type": "code",
   "execution_count": null,
   "metadata": {},
   "outputs": [],
   "source": [
    "def cancer_predict(\n",
    "  smoke,\n",
    "  yellow_finger,\n",
    "  anxious,\n",
    "  friends,\n",
    "  chronic_disease,\n",
    "  fatigue,\n",
    "  allergies,\n",
    "  wheezing,\n",
    "  alcohol,\n",
    "  cough,\n",
    "  breath,\n",
    "  swallowing,\n",
    "  chest_pain\n",
    "):\n",
    "  if(smoke == -2): smoke = 0\n",
    "  else: smoke = 1\n",
    "  \n",
    "  if(yellow_finger == -2): yellow_finger = 0\n",
    "  else: yellow_finger = 1\n",
    "  \n",
    "  if(anxious == -2): anxious = 0\n",
    "  else: anxious = 1\n",
    "  \n",
    "  if(friends == -2): friends = 0\n",
    "  else: friends = 1\n",
    "  \n",
    "  if(chronic_disease == -2): chronic_disease = 0\n",
    "  else: chronic_disease = 1\n",
    "  \n",
    "  if(fatigue == -2): fatigue = 0\n",
    "  else: fatigue = 1\n",
    "  \n",
    "  if(allergies == -2): allergies = 0\n",
    "  else: allergies = 1\n",
    "  \n",
    "  if(wheezing == -2): wheezing = 0\n",
    "  else: wheezing = 1\n",
    "  \n",
    "  if(alcohol == -2): alcohol = 0\n",
    "  else: alcohol = 1\n",
    "  \n",
    "  if(cough == -2): cough = 0\n",
    "  else: cough = 1\n",
    "  \n",
    "  if(breath == -2): breath = 0\n",
    "  else: breath = 1\n",
    "  \n",
    "  if(swallowing == -2): swallowing = 0\n",
    "  else: swallowing = 1\n",
    "  \n",
    "  if(chest_pain == -2): chest_pain = 0\n",
    "  else: chest_pain = 1\n",
    "  \n",
    "  input = [\n",
    "    smoke,\n",
    "    yellow_finger,\n",
    "    anxious,\n",
    "    friends,\n",
    "    chronic_disease,\n",
    "    fatigue,\n",
    "    allergies,\n",
    "    wheezing,\n",
    "    alcohol,\n",
    "    cough,\n",
    "    breath,\n",
    "    swallowing,\n",
    "    chest_pain\n",
    "  ]\n",
    "  \n",
    "  input_as_array = np.asarray(input)\n",
    "  input_reshape = input_as_array.reshape(1,-1)\n",
    "\n",
    "  std_data = scaler.transform(input_reshape)\n",
    "  prediction = clf.predict(std_data)\n",
    "\n",
    "  if (prediction == 1):\n",
    "    return 'This patient possibly positive lung cancer'\n",
    "  elif (prediction == 0):\n",
    "    return 'This patient possibly negative lung cancer'\n",
    "  else:\n",
    "    return 'Wrong input!'\n",
    "  "
   ]
  },
  {
   "cell_type": "code",
   "execution_count": null,
   "metadata": {},
   "outputs": [
    {
     "name": "stderr",
     "output_type": "stream",
     "text": [
      "c:\\Users\\ASUS\\AppData\\Local\\Programs\\Python\\Python310\\lib\\site-packages\\sklearn\\base.py:450: UserWarning: X does not have valid feature names, but StandardScaler was fitted with feature names\n",
      "  warnings.warn(\n"
     ]
    },
    {
     "data": {
      "text/plain": [
       "'This patient possibly negative lung cancer'"
      ]
     },
     "execution_count": 15,
     "metadata": {},
     "output_type": "execute_result"
    }
   ],
   "source": [
    "cancer_predict(-2,-2,-2,-2,-2,-2,-2,-2,-2,-2,-2,-2,-2)"
   ]
  },
  {
   "cell_type": "code",
   "execution_count": null,
   "metadata": {},
   "outputs": [
    {
     "name": "stdout",
     "output_type": "stream",
     "text": [
      "Connecting to wss://anvil.works/uplink\n"
     ]
    },
    {
     "ename": "gaierror",
     "evalue": "[Errno 11001] getaddrinfo failed",
     "output_type": "error",
     "traceback": [
      "\u001b[1;31m---------------------------------------------------------------------------\u001b[0m",
      "\u001b[1;31mgaierror\u001b[0m                                  Traceback (most recent call last)",
      "\u001b[1;32md:\\Mata Kuliah\\Semester 3\\Artificial Intelligence\\Final Project\\lungCancer.ipynb Cell 15\u001b[0m in \u001b[0;36m<cell line: 3>\u001b[1;34m()\u001b[0m\n\u001b[0;32m      <a href='vscode-notebook-cell:/d%3A/Mata%20Kuliah/Semester%203/Artificial%20Intelligence/Final%20Project/lungCancer.ipynb#X20sZmlsZQ%3D%3D?line=0'>1</a>\u001b[0m \u001b[39mimport\u001b[39;00m \u001b[39manvil\u001b[39;00m\u001b[39m.\u001b[39;00m\u001b[39mserver\u001b[39;00m\n\u001b[1;32m----> <a href='vscode-notebook-cell:/d%3A/Mata%20Kuliah/Semester%203/Artificial%20Intelligence/Final%20Project/lungCancer.ipynb#X20sZmlsZQ%3D%3D?line=2'>3</a>\u001b[0m anvil\u001b[39m.\u001b[39;49mserver\u001b[39m.\u001b[39;49mconnect(\u001b[39m\"\u001b[39;49m\u001b[39mNGYRTN76HI6JORSCUQFVKJO7-7ESA5W76U4YVFPHB\u001b[39;49m\u001b[39m\"\u001b[39;49m)\n\u001b[0;32m      <a href='vscode-notebook-cell:/d%3A/Mata%20Kuliah/Semester%203/Artificial%20Intelligence/Final%20Project/lungCancer.ipynb#X20sZmlsZQ%3D%3D?line=4'>5</a>\u001b[0m \u001b[39m@anvil\u001b[39m\u001b[39m.\u001b[39mserver\u001b[39m.\u001b[39mcallable\n\u001b[0;32m      <a href='vscode-notebook-cell:/d%3A/Mata%20Kuliah/Semester%203/Artificial%20Intelligence/Final%20Project/lungCancer.ipynb#X20sZmlsZQ%3D%3D?line=5'>6</a>\u001b[0m \u001b[39mdef\u001b[39;00m \u001b[39mcancer_predict\u001b[39m(\n\u001b[0;32m      <a href='vscode-notebook-cell:/d%3A/Mata%20Kuliah/Semester%203/Artificial%20Intelligence/Final%20Project/lungCancer.ipynb#X20sZmlsZQ%3D%3D?line=6'>7</a>\u001b[0m   smoke,\n\u001b[1;32m   (...)\u001b[0m\n\u001b[0;32m     <a href='vscode-notebook-cell:/d%3A/Mata%20Kuliah/Semester%203/Artificial%20Intelligence/Final%20Project/lungCancer.ipynb#X20sZmlsZQ%3D%3D?line=18'>19</a>\u001b[0m   chest_pain\n\u001b[0;32m     <a href='vscode-notebook-cell:/d%3A/Mata%20Kuliah/Semester%203/Artificial%20Intelligence/Final%20Project/lungCancer.ipynb#X20sZmlsZQ%3D%3D?line=19'>20</a>\u001b[0m ):\n\u001b[0;32m     <a href='vscode-notebook-cell:/d%3A/Mata%20Kuliah/Semester%203/Artificial%20Intelligence/Final%20Project/lungCancer.ipynb#X20sZmlsZQ%3D%3D?line=20'>21</a>\u001b[0m   \u001b[39mif\u001b[39;00m(smoke \u001b[39m==\u001b[39m \u001b[39m'\u001b[39m\u001b[39mNO\u001b[39m\u001b[39m'\u001b[39m): smoke \u001b[39m=\u001b[39m \u001b[39m0\u001b[39m\n",
      "File \u001b[1;32mc:\\Users\\ASUS\\AppData\\Local\\Programs\\Python\\Python310\\lib\\site-packages\\anvil\\server.py:358\u001b[0m, in \u001b[0;36mconnect\u001b[1;34m(key, url, quiet, init_session, extra_headers)\u001b[0m\n\u001b[0;32m    356\u001b[0m _init_session \u001b[39m=\u001b[39m init_session\n\u001b[0;32m    357\u001b[0m _get_extra_headers \u001b[39m=\u001b[39m (\u001b[39mlambda\u001b[39;00m: extra_headers) \u001b[39mif\u001b[39;00m \u001b[39mtype\u001b[39m(extra_headers) \u001b[39mis\u001b[39;00m \u001b[39mdict\u001b[39m \u001b[39melse\u001b[39;00m extra_headers\n\u001b[1;32m--> 358\u001b[0m _get_connection()\n",
      "File \u001b[1;32mc:\\Users\\ASUS\\AppData\\Local\\Programs\\Python\\Python310\\lib\\site-packages\\anvil\\server.py:340\u001b[0m, in \u001b[0;36m_get_connection\u001b[1;34m()\u001b[0m\n\u001b[0;32m    338\u001b[0m         \u001b[39mexcept\u001b[39;00m \u001b[39mException\u001b[39;00m \u001b[39mas\u001b[39;00m e:\n\u001b[0;32m    339\u001b[0m             _connection \u001b[39m=\u001b[39m \u001b[39mNone\u001b[39;00m\n\u001b[1;32m--> 340\u001b[0m             \u001b[39mraise\u001b[39;00m e\n\u001b[0;32m    341\u001b[0m         _connection\u001b[39m.\u001b[39mwait_until_ready()\n\u001b[0;32m    342\u001b[0m \u001b[39mreturn\u001b[39;00m _connection\n",
      "File \u001b[1;32mc:\\Users\\ASUS\\AppData\\Local\\Programs\\Python\\Python310\\lib\\site-packages\\anvil\\server.py:337\u001b[0m, in \u001b[0;36m_get_connection\u001b[1;34m()\u001b[0m\n\u001b[0;32m    335\u001b[0m \u001b[39mtry\u001b[39;00m:\n\u001b[0;32m    336\u001b[0m     _connection \u001b[39m=\u001b[39m _Connection(headers\u001b[39m=\u001b[39m_get_extra_headers()\u001b[39m.\u001b[39mitems())\n\u001b[1;32m--> 337\u001b[0m     _connection\u001b[39m.\u001b[39;49mconnect()\n\u001b[0;32m    338\u001b[0m \u001b[39mexcept\u001b[39;00m \u001b[39mException\u001b[39;00m \u001b[39mas\u001b[39;00m e:\n\u001b[0;32m    339\u001b[0m     _connection \u001b[39m=\u001b[39m \u001b[39mNone\u001b[39;00m\n",
      "File \u001b[1;32mc:\\Users\\ASUS\\AppData\\Local\\Programs\\Python\\Python310\\lib\\site-packages\\ws4py\\client\\__init__.py:217\u001b[0m, in \u001b[0;36mWebSocketBaseClient.connect\u001b[1;34m(self)\u001b[0m\n\u001b[0;32m    214\u001b[0m     \u001b[39mself\u001b[39m\u001b[39m.\u001b[39msock \u001b[39m=\u001b[39m ssl\u001b[39m.\u001b[39mwrap_socket(\u001b[39mself\u001b[39m\u001b[39m.\u001b[39msock, \u001b[39m*\u001b[39m\u001b[39m*\u001b[39m\u001b[39mself\u001b[39m\u001b[39m.\u001b[39mssl_options)\n\u001b[0;32m    215\u001b[0m     \u001b[39mself\u001b[39m\u001b[39m.\u001b[39m_is_secure \u001b[39m=\u001b[39m \u001b[39mTrue\u001b[39;00m\n\u001b[1;32m--> 217\u001b[0m \u001b[39mself\u001b[39;49m\u001b[39m.\u001b[39;49msock\u001b[39m.\u001b[39;49mconnect(\u001b[39mself\u001b[39;49m\u001b[39m.\u001b[39;49mbind_addr)\n\u001b[0;32m    219\u001b[0m \u001b[39mself\u001b[39m\u001b[39m.\u001b[39m_write(\u001b[39mself\u001b[39m\u001b[39m.\u001b[39mhandshake_request)\n\u001b[0;32m    221\u001b[0m response \u001b[39m=\u001b[39m \u001b[39mb\u001b[39m\u001b[39m'\u001b[39m\u001b[39m'\u001b[39m\n",
      "File \u001b[1;32mc:\\Users\\ASUS\\AppData\\Local\\Programs\\Python\\Python310\\lib\\ssl.py:1375\u001b[0m, in \u001b[0;36mSSLSocket.connect\u001b[1;34m(self, addr)\u001b[0m\n\u001b[0;32m   1372\u001b[0m \u001b[39mdef\u001b[39;00m \u001b[39mconnect\u001b[39m(\u001b[39mself\u001b[39m, addr):\n\u001b[0;32m   1373\u001b[0m     \u001b[39m\"\"\"Connects to remote ADDR, and then wraps the connection in\u001b[39;00m\n\u001b[0;32m   1374\u001b[0m \u001b[39m    an SSL channel.\"\"\"\u001b[39;00m\n\u001b[1;32m-> 1375\u001b[0m     \u001b[39mself\u001b[39;49m\u001b[39m.\u001b[39;49m_real_connect(addr, \u001b[39mFalse\u001b[39;49;00m)\n",
      "File \u001b[1;32mc:\\Users\\ASUS\\AppData\\Local\\Programs\\Python\\Python310\\lib\\ssl.py:1362\u001b[0m, in \u001b[0;36mSSLSocket._real_connect\u001b[1;34m(self, addr, connect_ex)\u001b[0m\n\u001b[0;32m   1360\u001b[0m \u001b[39melse\u001b[39;00m:\n\u001b[0;32m   1361\u001b[0m     rc \u001b[39m=\u001b[39m \u001b[39mNone\u001b[39;00m\n\u001b[1;32m-> 1362\u001b[0m     \u001b[39msuper\u001b[39;49m()\u001b[39m.\u001b[39;49mconnect(addr)\n\u001b[0;32m   1363\u001b[0m \u001b[39mif\u001b[39;00m \u001b[39mnot\u001b[39;00m rc:\n\u001b[0;32m   1364\u001b[0m     \u001b[39mself\u001b[39m\u001b[39m.\u001b[39m_connected \u001b[39m=\u001b[39m \u001b[39mTrue\u001b[39;00m\n",
      "\u001b[1;31mgaierror\u001b[0m: [Errno 11001] getaddrinfo failed"
     ]
    }
   ],
   "source": [
    "import anvil.server\n",
    "\n",
    "anvil.server.connect(\"NGYRTN76HI6JORSCUQFVKJO7-7ESA5W76U4YVFPHB\")\n",
    "\n",
    "@anvil.server.callable\n",
    "def cancer_predict(\n",
    "  smoke,\n",
    "  yellow_finger,\n",
    "  anxious,\n",
    "  friends,\n",
    "  chronic_disease,\n",
    "  fatigue,\n",
    "  allergies,\n",
    "  wheezing,\n",
    "  alcohol,\n",
    "  cough,\n",
    "  breath,\n",
    "  swallowing,\n",
    "  chest_pain\n",
    "):\n",
    "  if(smoke == 'NO'): smoke = 0\n",
    "  elif(smoke == 'YES'): smoke = 1\n",
    "  \n",
    "  if(yellow_finger == 'NO'): yellow_finger = 0\n",
    "  elif(yellow_finger == 'YES'): yellow_finger = 1\n",
    "  \n",
    "  if(anxious == 'NO'): anxious = 0\n",
    "  elif(anxious == 'YES'): anxious = 1\n",
    "  \n",
    "  if(friends == 'NO'): friends = 0\n",
    "  elif(friends == 'YES'): friends = 1\n",
    "  \n",
    "  if(chronic_disease == 'NO'): chronic_disease = 0\n",
    "  elif(chronic_disease == 'YES'): chronic_disease = 1\n",
    "  \n",
    "  if(fatigue == 'NO'): fatigue = 0\n",
    "  elif(fatigue == 'YES'): fatigue = 1\n",
    "  \n",
    "  if(allergies == 'NO'): allergies = 0\n",
    "  elif(allergies == 'YES'): allergies = 1\n",
    "  \n",
    "  if(wheezing == 'NO'): wheezing = 0\n",
    "  elif(wheezing == 'YES'): wheezing = 1\n",
    "  \n",
    "  if(alcohol == 'NO'): alcohol = 0\n",
    "  elif(alcohol == 'YES'): alcohol = 1\n",
    "  \n",
    "  if(cough == 'NO'): cough = 0\n",
    "  elif(cough == 'YES'): cough = 1\n",
    "  \n",
    "  if(breath == 'NO'): breath = 0\n",
    "  elif(breath == 'YES'): breath = 1\n",
    "  \n",
    "  if(swallowing == 'NO'): swallowing = 0\n",
    "  elif(swallowing == 'YES'): swallowing = 1\n",
    "  \n",
    "  if(chest_pain == 'NO'): chest_pain = 0\n",
    "  elif(chest_pain == 'YES'): chest_pain = 1\n",
    "  \n",
    "  input = [\n",
    "    smoke,\n",
    "    yellow_finger,\n",
    "    anxious,\n",
    "    friends,\n",
    "    chronic_disease,\n",
    "    fatigue,\n",
    "    allergies,\n",
    "    wheezing,\n",
    "    alcohol,\n",
    "    cough,\n",
    "    breath,\n",
    "    swallowing,\n",
    "    chest_pain\n",
    "  ]\n",
    "  \n",
    "  input_as_array = np.asarray(input)\n",
    "  input_reshape = input_as_array.reshape(1,-1)\n",
    "\n",
    "  std_data = scaler.transform(input_reshape)\n",
    "  prediction = clf.predict(std_data)\n",
    "\n",
    "  if (prediction == 1):\n",
    "    return 'This patient possibly positive lung cancer'\n",
    "  elif (prediction == 0):\n",
    "    return 'This patient possibly negative lung cancer'\n",
    "  else:\n",
    "    return 'Wrong input!'"
   ]
  },
  {
   "cell_type": "code",
   "execution_count": null,
   "metadata": {},
   "outputs": [
    {
     "name": "stderr",
     "output_type": "stream",
     "text": [
      "Exception in thread Thread-4 (heartbeat_until_reopened):\n",
      "Traceback (most recent call last):\n",
      "  File \"c:\\Users\\ASUS\\AppData\\Local\\Programs\\Python\\Python310\\lib\\site-packages\\anvil\\server.py\", line 405, in call\n",
      "    return _do_call(args, kwargs, fn_name=fn_name)\n",
      "  File \"c:\\Users\\ASUS\\AppData\\Local\\Programs\\Python\\Python310\\lib\\site-packages\\anvil\\server.py\", line 395, in _do_call\n",
      "    return _threaded_server.do_call(args, kwargs, fn_name=fn_name, live_object=live_object)\n",
      "  File \"c:\\Users\\ASUS\\AppData\\Local\\Programs\\Python\\Python310\\lib\\site-packages\\anvil\\_threaded_server.py\", line 435, in do_call\n",
      "    raise error_from_server\n",
      "anvil._server.AnvilWrappedError: 'Connection to Anvil Uplink server lost'\n",
      "\n",
      "During handling of the above exception, another exception occurred:\n",
      "\n",
      "Traceback (most recent call last):\n",
      "  File \"c:\\Users\\ASUS\\AppData\\Local\\Programs\\Python\\Python310\\lib\\threading.py\", line 1016, in _bootstrap_inner\n",
      "    self.run()\n",
      "  File \"c:\\Users\\ASUS\\AppData\\Local\\Programs\\Python\\Python310\\lib\\threading.py\", line 953, in run\n",
      "    self._target(*self._args, **self._kwargs)\n",
      "  File \"c:\\Users\\ASUS\\AppData\\Local\\Programs\\Python\\Python310\\lib\\site-packages\\anvil\\server.py\", line 206, in heartbeat_until_reopened\n",
      "    call(\"anvil.private.echo\", \"keep-alive\")\n",
      "  File \"c:\\Users\\ASUS\\AppData\\Local\\Programs\\Python\\Python310\\lib\\site-packages\\anvil\\server.py\", line 408, in call\n",
      "    raise _server._deserialise_exception(e.error_obj)\n",
      "anvil._server.AnvilWrappedError: 'Connection to Anvil Uplink server lost'\n"
     ]
    },
    {
     "name": "stdout",
     "output_type": "stream",
     "text": [
      "Anvil websocket closed (code 1006, reason=Going away)\n",
      "Reconnecting Anvil Uplink...\n",
      "Connecting to wss://anvil.works/uplink\n",
      "Anvil websocket open\n",
      "Connected to \"Default environment\" as SERVER\n"
     ]
    },
    {
     "name": "stderr",
     "output_type": "stream",
     "text": [
      "c:\\Users\\ASUS\\AppData\\Local\\Programs\\Python\\Python310\\lib\\site-packages\\sklearn\\base.py:450: UserWarning: X does not have valid feature names, but StandardScaler was fitted with feature names\n",
      "  warnings.warn(\n",
      "c:\\Users\\ASUS\\AppData\\Local\\Programs\\Python\\Python310\\lib\\site-packages\\sklearn\\base.py:450: UserWarning: X does not have valid feature names, but StandardScaler was fitted with feature names\n",
      "  warnings.warn(\n",
      "c:\\Users\\ASUS\\AppData\\Local\\Programs\\Python\\Python310\\lib\\site-packages\\sklearn\\base.py:450: UserWarning: X does not have valid feature names, but StandardScaler was fitted with feature names\n",
      "  warnings.warn(\n",
      "c:\\Users\\ASUS\\AppData\\Local\\Programs\\Python\\Python310\\lib\\site-packages\\sklearn\\base.py:450: UserWarning: X does not have valid feature names, but StandardScaler was fitted with feature names\n",
      "  warnings.warn(\n",
      "c:\\Users\\ASUS\\AppData\\Local\\Programs\\Python\\Python310\\lib\\site-packages\\sklearn\\base.py:450: UserWarning: X does not have valid feature names, but StandardScaler was fitted with feature names\n",
      "  warnings.warn(\n",
      "c:\\Users\\ASUS\\AppData\\Local\\Programs\\Python\\Python310\\lib\\site-packages\\sklearn\\base.py:450: UserWarning: X does not have valid feature names, but StandardScaler was fitted with feature names\n",
      "  warnings.warn(\n",
      "c:\\Users\\ASUS\\AppData\\Local\\Programs\\Python\\Python310\\lib\\site-packages\\sklearn\\base.py:450: UserWarning: X does not have valid feature names, but StandardScaler was fitted with feature names\n",
      "  warnings.warn(\n",
      "c:\\Users\\ASUS\\AppData\\Local\\Programs\\Python\\Python310\\lib\\site-packages\\sklearn\\base.py:450: UserWarning: X does not have valid feature names, but StandardScaler was fitted with feature names\n",
      "  warnings.warn(\n",
      "c:\\Users\\ASUS\\AppData\\Local\\Programs\\Python\\Python310\\lib\\site-packages\\sklearn\\base.py:450: UserWarning: X does not have valid feature names, but StandardScaler was fitted with feature names\n",
      "  warnings.warn(\n",
      "c:\\Users\\ASUS\\AppData\\Local\\Programs\\Python\\Python310\\lib\\site-packages\\sklearn\\base.py:450: UserWarning: X does not have valid feature names, but StandardScaler was fitted with feature names\n",
      "  warnings.warn(\n",
      "c:\\Users\\ASUS\\AppData\\Local\\Programs\\Python\\Python310\\lib\\site-packages\\sklearn\\base.py:450: UserWarning: X does not have valid feature names, but StandardScaler was fitted with feature names\n",
      "  warnings.warn(\n",
      "c:\\Users\\ASUS\\AppData\\Local\\Programs\\Python\\Python310\\lib\\site-packages\\sklearn\\base.py:450: UserWarning: X does not have valid feature names, but StandardScaler was fitted with feature names\n",
      "  warnings.warn(\n",
      "c:\\Users\\ASUS\\AppData\\Local\\Programs\\Python\\Python310\\lib\\site-packages\\sklearn\\base.py:450: UserWarning: X does not have valid feature names, but StandardScaler was fitted with feature names\n",
      "  warnings.warn(\n",
      "c:\\Users\\ASUS\\AppData\\Local\\Programs\\Python\\Python310\\lib\\site-packages\\sklearn\\base.py:450: UserWarning: X does not have valid feature names, but StandardScaler was fitted with feature names\n",
      "  warnings.warn(\n"
     ]
    },
    {
     "ename": "KeyboardInterrupt",
     "evalue": "",
     "output_type": "error",
     "traceback": [
      "\u001b[1;31m---------------------------------------------------------------------------\u001b[0m",
      "\u001b[1;31mKeyboardInterrupt\u001b[0m                         Traceback (most recent call last)",
      "\u001b[1;32md:\\Mata Kuliah\\Semester 3\\Artificial Intelligence\\Final Project\\lungCancer.ipynb Cell 16\u001b[0m in \u001b[0;36m<cell line: 1>\u001b[1;34m()\u001b[0m\n\u001b[1;32m----> <a href='vscode-notebook-cell:/d%3A/Mata%20Kuliah/Semester%203/Artificial%20Intelligence/Final%20Project/lungCancer.ipynb#X16sZmlsZQ%3D%3D?line=0'>1</a>\u001b[0m anvil\u001b[39m.\u001b[39;49mserver\u001b[39m.\u001b[39;49mwait_forever()\n",
      "File \u001b[1;32mc:\\Users\\ASUS\\AppData\\Local\\Programs\\Python\\Python310\\lib\\site-packages\\anvil\\server.py:434\u001b[0m, in \u001b[0;36mwait_forever\u001b[1;34m()\u001b[0m\n\u001b[0;32m    432\u001b[0m _get_connection()\n\u001b[0;32m    433\u001b[0m \u001b[39mwhile\u001b[39;00m \u001b[39mTrue\u001b[39;00m:\n\u001b[1;32m--> 434\u001b[0m     time\u001b[39m.\u001b[39;49msleep(\u001b[39m1\u001b[39;49m)\n",
      "\u001b[1;31mKeyboardInterrupt\u001b[0m: "
     ]
    },
    {
     "name": "stderr",
     "output_type": "stream",
     "text": [
      "c:\\Users\\ASUS\\AppData\\Local\\Programs\\Python\\Python310\\lib\\site-packages\\sklearn\\base.py:450: UserWarning: X does not have valid feature names, but StandardScaler was fitted with feature names\n",
      "  warnings.warn(\n",
      "c:\\Users\\ASUS\\AppData\\Local\\Programs\\Python\\Python310\\lib\\site-packages\\sklearn\\base.py:450: UserWarning: X does not have valid feature names, but StandardScaler was fitted with feature names\n",
      "  warnings.warn(\n",
      "c:\\Users\\ASUS\\AppData\\Local\\Programs\\Python\\Python310\\lib\\site-packages\\sklearn\\base.py:450: UserWarning: X does not have valid feature names, but StandardScaler was fitted with feature names\n",
      "  warnings.warn(\n"
     ]
    }
   ],
   "source": [
    "anvil.server.wait_forever()"
   ]
  }
 ],
 "metadata": {
  "kernelspec": {
   "display_name": "Python 3.10.5 64-bit",
   "language": "python",
   "name": "python3"
  },
  "language_info": {
   "codemirror_mode": {
    "name": "ipython",
    "version": 3
   },
   "file_extension": ".py",
   "mimetype": "text/x-python",
   "name": "python",
   "nbconvert_exporter": "python",
   "pygments_lexer": "ipython3",
   "version": "3.10.5 (tags/v3.10.5:f377153, Jun  6 2022, 16:14:13) [MSC v.1929 64 bit (AMD64)]"
  },
  "orig_nbformat": 4,
  "vscode": {
   "interpreter": {
    "hash": "27f6fea6f47ae512550f0b8facdbd035a93e1dd89633f7bf2dd00a2502c71d0d"
   }
  }
 },
 "nbformat": 4,
 "nbformat_minor": 2
}
